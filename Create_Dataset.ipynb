{
 "cells": [
  {
   "cell_type": "markdown",
   "metadata": {},
   "source": [
    "### This algorithm extractacts two global features and one local feature from the flowers.\n",
    "\n",
    "#### Global Features\n",
    "\n",
    "    1.Hu Moments that quantifies shape of the flower.\n",
    "    2.Haralick Texture that quantifies texture of the flower.\n",
    "    \n",
    "#### Local Feature\n",
    "\n",
    "    1.SURF(Sppeded-up Robust Features) to extract keypoints and descriptors of the flower."
   ]
  },
  {
   "cell_type": "code",
   "execution_count": 3,
   "metadata": {},
   "outputs": [],
   "source": [
    "import os\n",
    "import cv2\n",
    "import time\n",
    "import numpy as np\n",
    "import pandas as pd\n",
    "from sklearn.preprocessing import StandardScaler\n",
    "from sklearn.cluster import KMeans\n",
    "from tqdm import tqdm\n",
    "from module_functions import *"
   ]
  },
  {
   "cell_type": "code",
   "execution_count": 5,
   "metadata": {},
   "outputs": [
    {
     "data": {
      "text/plain": [
       "['Crocus', 'Dandelion', 'LilyValley', 'Pancy', 'Rose']"
      ]
     },
     "execution_count": 5,
     "metadata": {},
     "output_type": "execute_result"
    }
   ],
   "source": [
    "fixed_size  = tuple((500,500))\n",
    "train_path = \"dataset\"\n",
    "bins = 8\n",
    "os.listdir(train_path)"
   ]
  },
  {
   "cell_type": "markdown",
   "metadata": {},
   "source": [
    "#### BOVG(Bag of Virtual Words) method is applied to construct histogram of flower from its SURF decsriptors. "
   ]
  },
  {
   "cell_type": "code",
   "execution_count": 6,
   "metadata": {},
   "outputs": [
    {
     "name": "stderr",
     "output_type": "stream",
     "text": [
      "100%|██████████| 5/5 [00:27<00:00,  5.56s/it]\n"
     ]
    }
   ],
   "source": [
    "for training_name in tqdm(os.listdir(train_path)):\n",
    "    \n",
    "    dir = os.path.join(train_path, training_name)\n",
    "    surf_des_array = np.empty(shape=(0,64))\n",
    "    \n",
    "    for file in os.listdir(dir):\n",
    "\n",
    "        file = os.path.join(dir, file)\n",
    "        image = cv2.imread(file)\n",
    "        \n",
    "        if image is not None:\n",
    "            image = cv2.resize(image,fixed_size)\n",
    "            _, surf_des = fd_surf(image)\n",
    "            \n",
    "            surf_des_array = np.append(surf_des_array, surf_des, axis = 0)"
   ]
  },
  {
   "cell_type": "code",
   "execution_count": 10,
   "metadata": {},
   "outputs": [
    {
     "name": "stdout",
     "output_type": "stream",
     "text": [
      "Time taken : 2:27 m\n"
     ]
    }
   ],
   "source": [
    "ti = time.time()\n",
    "surf_kmeans = KMeans(n_clusters = 200).fit(surf_des_array)\n",
    "surf_cl_centers = surf_kmeans.cluster_centers_\n",
    "tf = time.time()\n",
    "print(f'Time taken : {int((tf - ti) // 60)}:{int((tf - ti) % 60)} m')"
   ]
  },
  {
   "cell_type": "code",
   "execution_count": 11,
   "metadata": {},
   "outputs": [
    {
     "name": "stderr",
     "output_type": "stream",
     "text": [
      "100%|██████████| 5/5 [02:19<00:00, 27.95s/it]\n"
     ]
    }
   ],
   "source": [
    "features = []\n",
    "labels = []\n",
    "all_images = []\n",
    "\n",
    "for training_name in tqdm(os.listdir(train_path)):\n",
    "    \n",
    "    dir = os.path.join(train_path, training_name)\n",
    "    current_label = training_name\n",
    "        \n",
    "    for file in os.listdir(dir):\n",
    "        \n",
    "        file = os.path.join(dir, file)\n",
    "        image = cv2.imread(file)\n",
    "        \n",
    "        if image is not None:\n",
    "            image = cv2.resize(image,fixed_size)\n",
    "            fv_surf_histogram = fd_surf_histogram(image, surf_cl_centers, fixed_size)\n",
    "            fv_hu_moments = fd_hu_moments(image)\n",
    "            fv_haralick   = fd_haralick(image)\n",
    "            \n",
    "            feature = np.hstack([fv_surf_histogram, fv_haralick, fv_hu_moments])\n",
    "            features.append(feature)\n",
    "            labels.append(current_label)\n",
    "            all_images.append(image)"
   ]
  },
  {
   "cell_type": "code",
   "execution_count": 12,
   "metadata": {},
   "outputs": [],
   "source": [
    "labels = np.array(labels).reshape(-1,1)\n",
    "scaler = StandardScaler()\n",
    "rescaled_features = scaler.fit_transform(features)"
   ]
  },
  {
   "cell_type": "code",
   "execution_count": 21,
   "metadata": {},
   "outputs": [],
   "source": [
    "df = pd.concat([pd.DataFrame(rescaled_features), pd.DataFrame(labels)], axis = 'columns')\n",
    "df = df.dropna()\n",
    "df.columns = range(len(df.columns))"
   ]
  },
  {
   "cell_type": "code",
   "execution_count": 3,
   "metadata": {},
   "outputs": [],
   "source": [
    "#df.to_csv('feature_vectors.csv', index = False)\n",
    "#np.save('flower_images.npy', all_images)"
   ]
  }
 ],
 "metadata": {
  "kernelspec": {
   "display_name": "Python 3",
   "language": "python",
   "name": "python3"
  },
  "language_info": {
   "codemirror_mode": {
    "name": "ipython",
    "version": 3
   },
   "file_extension": ".py",
   "mimetype": "text/x-python",
   "name": "python",
   "nbconvert_exporter": "python",
   "pygments_lexer": "ipython3",
   "version": "3.7.6"
  }
 },
 "nbformat": 4,
 "nbformat_minor": 4
}
